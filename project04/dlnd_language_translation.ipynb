{
 "cells": [
  {
   "cell_type": "markdown",
   "metadata": {
    "collapsed": true
   },
   "source": [
    "# Language Translation\n",
    "In this project, you’re going to take a peek into the realm of neural network machine translation.  You’ll be training a sequence to sequence model on a dataset of English and French sentences that can translate new sentences from English to French.\n",
    "## Get the Data\n",
    "Since translating the whole language of English to French will take lots of time to train, we have provided you with a small portion of the English corpus."
   ]
  },
  {
   "cell_type": "code",
   "execution_count": 1,
   "metadata": {
    "collapsed": true
   },
   "outputs": [],
   "source": [
    "\"\"\"\n",
    "DON'T MODIFY ANYTHING IN THIS CELL\n",
    "\"\"\"\n",
    "import helper\n",
    "import problem_unittests as tests\n",
    "\n",
    "source_path = 'data/small_vocab_en'\n",
    "target_path = 'data/small_vocab_fr'\n",
    "source_text = helper.load_data(source_path)\n",
    "target_text = helper.load_data(target_path)"
   ]
  },
  {
   "cell_type": "markdown",
   "metadata": {},
   "source": [
    "## Explore the Data\n",
    "Play around with view_sentence_range to view different parts of the data."
   ]
  },
  {
   "cell_type": "code",
   "execution_count": 2,
   "metadata": {},
   "outputs": [
    {
     "name": "stdout",
     "output_type": "stream",
     "text": [
      "Dataset Stats\n",
      "Roughly the number of unique words: 227\n",
      "Number of sentences: 137861\n",
      "Average number of words in a sentence: 13.225277634719028\n",
      "\n",
      "English sentences 10 to 20:\n",
      "the lime is her least liked fruit , but the banana is my least liked .\n",
      "he saw a old yellow truck .\n",
      "india is rainy during june , and it is sometimes warm in november .\n",
      "that cat was my most loved animal .\n",
      "he dislikes grapefruit , limes , and lemons .\n",
      "her least liked fruit is the lemon , but his least liked is the grapefruit .\n",
      "california is never cold during february , but it is sometimes freezing in june .\n",
      "china is usually pleasant during autumn , and it is usually quiet in october .\n",
      "paris is never freezing during november , but it is wonderful in october .\n",
      "the united states is never rainy during january , but it is sometimes mild in october .\n",
      "\n",
      "French sentences 10 to 20:\n",
      "la chaux est son moins aimé des fruits , mais la banane est mon moins aimé.\n",
      "il a vu un vieux camion jaune .\n",
      "inde est pluvieux en juin , et il est parfois chaud en novembre .\n",
      "ce chat était mon animal le plus aimé .\n",
      "il n'aime pamplemousse , citrons verts et les citrons .\n",
      "son fruit est moins aimé le citron , mais son moins aimé est le pamplemousse .\n",
      "californie ne fait jamais froid en février , mais il est parfois le gel en juin .\n",
      "chine est généralement agréable en automne , et il est généralement calme en octobre .\n",
      "paris est jamais le gel en novembre , mais il est merveilleux en octobre .\n",
      "les états-unis est jamais pluvieux en janvier , mais il est parfois doux en octobre .\n"
     ]
    }
   ],
   "source": [
    "view_sentence_range = (10, 20)\n",
    "\n",
    "\"\"\"\n",
    "DON'T MODIFY ANYTHING IN THIS CELL\n",
    "\"\"\"\n",
    "import numpy as np\n",
    "\n",
    "print('Dataset Stats')\n",
    "print('Roughly the number of unique words: {}'.format(len({word: None for word in source_text.split()})))\n",
    "\n",
    "sentences = source_text.split('\\n')\n",
    "word_counts = [len(sentence.split()) for sentence in sentences]\n",
    "print('Number of sentences: {}'.format(len(sentences)))\n",
    "print('Average number of words in a sentence: {}'.format(np.average(word_counts)))\n",
    "\n",
    "print()\n",
    "print('English sentences {} to {}:'.format(*view_sentence_range))\n",
    "print('\\n'.join(source_text.split('\\n')[view_sentence_range[0]:view_sentence_range[1]]))\n",
    "print()\n",
    "print('French sentences {} to {}:'.format(*view_sentence_range))\n",
    "print('\\n'.join(target_text.split('\\n')[view_sentence_range[0]:view_sentence_range[1]]))"
   ]
  },
  {
   "cell_type": "markdown",
   "metadata": {},
   "source": [
    "## Implement Preprocessing Function\n",
    "### Text to Word Ids\n",
    "As you did with other RNNs, you must turn the text into a number so the computer can understand it. In the function `text_to_ids()`, you'll turn `source_text` and `target_text` from words to ids.  However, you need to add the `<EOS>` word id at the end of `target_text`.  This will help the neural network predict when the sentence should end.\n",
    "\n",
    "You can get the `<EOS>` word id by doing:\n",
    "```python\n",
    "target_vocab_to_int['<EOS>']\n",
    "```\n",
    "You can get other word ids using `source_vocab_to_int` and `target_vocab_to_int`."
   ]
  },
  {
   "cell_type": "code",
   "execution_count": 3,
   "metadata": {},
   "outputs": [
    {
     "name": "stdout",
     "output_type": "stream",
     "text": [
      "Tests Passed\n"
     ]
    }
   ],
   "source": [
    "def text_to_ids(source_text, target_text, source_vocab_to_int, target_vocab_to_int):\n",
    "    \"\"\"\n",
    "    Convert source and target text to proper word ids\n",
    "    :param source_text: String that contains all the source text.\n",
    "    :param target_text: String that contains all the target text.\n",
    "    :param source_vocab_to_int: Dictionary to go from the source words to an id\n",
    "    :param target_vocab_to_int: Dictionary to go from the target words to an id\n",
    "    :return: A tuple of lists (source_id_text, target_id_text)\n",
    "    \"\"\"\n",
    "    # TODO: Implement Function\n",
    "    \n",
    "    source_sentences = source_text.split('\\n')\n",
    "    target_sentences = target_text.split('\\n')\n",
    "    modified_target_sentences = [sentence + ' <EOS>' for sentence in target_sentences ]\n",
    "    \n",
    "    # As someone moving from C# to Python, I am really digging the flexibility \n",
    "    # and elegance of having deeply nested iterations like this! Python has quickly become my favorite language...\n",
    "    source_id_text = [ [ source_vocab_to_int[word] for word in sentence.split()] for sentence in source_sentences ]\n",
    "    target_id_text = [ [ target_vocab_to_int[word] for word in sentence.split()] for sentence in modified_target_sentences ]\n",
    "    \n",
    "    return (source_id_text, target_id_text)\n",
    "\n",
    "\"\"\"\n",
    "DON'T MODIFY ANYTHING IN THIS CELL THAT IS BELOW THIS LINE\n",
    "\"\"\"\n",
    "tests.test_text_to_ids(text_to_ids)"
   ]
  },
  {
   "cell_type": "markdown",
   "metadata": {},
   "source": [
    "### Preprocess all the data and save it\n",
    "Running the code cell below will preprocess all the data and save it to file."
   ]
  },
  {
   "cell_type": "code",
   "execution_count": 4,
   "metadata": {
    "collapsed": true
   },
   "outputs": [],
   "source": [
    "\"\"\"\n",
    "DON'T MODIFY ANYTHING IN THIS CELL\n",
    "\"\"\"\n",
    "helper.preprocess_and_save_data(source_path, target_path, text_to_ids)"
   ]
  },
  {
   "cell_type": "markdown",
   "metadata": {},
   "source": [
    "# Check Point\n",
    "This is your first checkpoint. If you ever decide to come back to this notebook or have to restart the notebook, you can start from here. The preprocessed data has been saved to disk."
   ]
  },
  {
   "cell_type": "code",
   "execution_count": 5,
   "metadata": {
    "collapsed": true
   },
   "outputs": [],
   "source": [
    "\"\"\"\n",
    "DON'T MODIFY ANYTHING IN THIS CELL\n",
    "\"\"\"\n",
    "import numpy as np\n",
    "import helper\n",
    "\n",
    "(source_int_text, target_int_text), (source_vocab_to_int, target_vocab_to_int), _ = helper.load_preprocess()"
   ]
  },
  {
   "cell_type": "code",
   "execution_count": 6,
   "metadata": {},
   "outputs": [
    {
     "name": "stdout",
     "output_type": "stream",
     "text": [
      "137861\n",
      "[[215, 100, 5, 74, 27, 117, 139, 61, 155, 106, 5, 51, 192, 127, 136], [108, 104, 132, 5, 8, 44, 117, 110, 61, 155, 106, 5, 8, 228, 192, 43, 136], [201, 5, 8, 27, 117, 222, 61, 155, 106, 5, 8, 99, 192, 147, 136], [108, 104, 132, 5, 74, 31, 117, 147, 61, 155, 106, 5, 66, 192, 230, 136], [105, 46, 163, 170, 5, 108, 203, 61, 123, 85, 46, 163, 5, 108, 218, 136]]\n",
      "['english', 'is', 'loved.', 'usually', 'his']\n"
     ]
    }
   ],
   "source": [
    "# I want to verify what it looks like...\n",
    "\n",
    "print(len(source_int_text))\n",
    "print(source_int_text[0:5])\n",
    "print(list(source_vocab_to_int)[0:5])\n"
   ]
  },
  {
   "cell_type": "markdown",
   "metadata": {},
   "source": [
    "### Check the Version of TensorFlow and Access to GPU\n",
    "This will check to make sure you have the correct version of TensorFlow and access to a GPU"
   ]
  },
  {
   "cell_type": "code",
   "execution_count": 7,
   "metadata": {},
   "outputs": [
    {
     "name": "stdout",
     "output_type": "stream",
     "text": [
      "TensorFlow Version: 1.1.0\n",
      "Default GPU Device: /gpu:0\n"
     ]
    }
   ],
   "source": [
    "\"\"\"\n",
    "DON'T MODIFY ANYTHING IN THIS CELL\n",
    "\"\"\"\n",
    "from distutils.version import LooseVersion\n",
    "import warnings\n",
    "import tensorflow as tf\n",
    "from tensorflow.python.layers.core import Dense\n",
    "\n",
    "# Check TensorFlow Version\n",
    "assert LooseVersion(tf.__version__) >= LooseVersion('1.1'), 'Please use TensorFlow version 1.1 or newer'\n",
    "print('TensorFlow Version: {}'.format(tf.__version__))\n",
    "\n",
    "# Check for a GPU\n",
    "if not tf.test.gpu_device_name():\n",
    "    warnings.warn('No GPU found. Please use a GPU to train your neural network.')\n",
    "else:\n",
    "    print('Default GPU Device: {}'.format(tf.test.gpu_device_name()))"
   ]
  },
  {
   "cell_type": "markdown",
   "metadata": {},
   "source": [
    "## Build the Neural Network\n",
    "You'll build the components necessary to build a Sequence-to-Sequence model by implementing the following functions below:\n",
    "- `model_inputs`\n",
    "- `process_decoder_input`\n",
    "- `encoding_layer`\n",
    "- `decoding_layer_train`\n",
    "- `decoding_layer_infer`\n",
    "- `decoding_layer`\n",
    "- `seq2seq_model`\n",
    "\n",
    "### Input\n",
    "Implement the `model_inputs()` function to create TF Placeholders for the Neural Network. It should create the following placeholders:\n",
    "\n",
    "- Input text placeholder named \"input\" using the TF Placeholder name parameter with rank 2.\n",
    "- Targets placeholder with rank 2.\n",
    "- Learning rate placeholder with rank 0.\n",
    "- Keep probability placeholder named \"keep_prob\" using the TF Placeholder name parameter with rank 0.\n",
    "- Target sequence length placeholder named \"target_sequence_length\" with rank 1\n",
    "- Max target sequence length tensor named \"max_target_len\" getting its value from applying tf.reduce_max on the target_sequence_length placeholder. Rank 0.\n",
    "- Source sequence length placeholder named \"source_sequence_length\" with rank 1\n",
    "\n",
    "Return the placeholders in the following the tuple (input, targets, learning rate, keep probability, target sequence length, max target sequence length, source sequence length)"
   ]
  },
  {
   "cell_type": "code",
   "execution_count": 8,
   "metadata": {},
   "outputs": [
    {
     "name": "stdout",
     "output_type": "stream",
     "text": [
      "Tests Passed\n"
     ]
    }
   ],
   "source": [
    "def model_inputs():\n",
    "    \"\"\"\n",
    "    Create TF Placeholders for input, targets, learning rate, and lengths of source and target sequences.\n",
    "    :return: Tuple (input, targets, learning rate, keep probability, target sequence length,\n",
    "    max target sequence length, source sequence length)\n",
    "    \"\"\"\n",
    "    # TODO: Implement Function\n",
    "    inputs = tf.placeholder( tf.int32, shape=[None, None], name='input')\n",
    "    targets = tf.placeholder( tf.int32, shape=[None, None], name='targets')\n",
    "    learning_rate = tf.placeholder( tf.float32, name='learning_rate')\n",
    "    keep_probability = tf.placeholder( tf.float32, name='keep_prob')\n",
    "    target_sequence_length = tf.placeholder( tf.int32, (None, ), name='target_sequence_length')\n",
    "    max_target_sequence_length = tf.reduce_max( target_sequence_length, name='max_target_len')\n",
    "    source_sequence_length = tf.placeholder( tf.int32, (None, ), name='source_sequence_length')\n",
    "    \n",
    "    return (inputs, targets, learning_rate, keep_probability, target_sequence_length, max_target_sequence_length, source_sequence_length )\n",
    "\n",
    "\n",
    "\"\"\"\n",
    "DON'T MODIFY ANYTHING IN THIS CELL THAT IS BELOW THIS LINE\n",
    "\"\"\"\n",
    "tests.test_model_inputs(model_inputs)"
   ]
  },
  {
   "cell_type": "markdown",
   "metadata": {},
   "source": [
    "### Process Decoder Input\n",
    "Implement `process_decoder_input` by removing the last word id from each batch in `target_data` and concat the GO ID to the begining of each batch."
   ]
  },
  {
   "cell_type": "code",
   "execution_count": 9,
   "metadata": {},
   "outputs": [
    {
     "name": "stdout",
     "output_type": "stream",
     "text": [
      "Tests Passed\n"
     ]
    }
   ],
   "source": [
    "def process_decoder_input(target_data, target_vocab_to_int, batch_size):\n",
    "    \"\"\"\n",
    "    Preprocess target data for encoding\n",
    "    :param target_data: Target Placehoder\n",
    "    :param target_vocab_to_int: Dictionary to go from the target words to an id\n",
    "    :param batch_size: Batch Size\n",
    "    :return: Preprocessed target data\n",
    "    \"\"\"\n",
    "    # TODO: Implement Function\n",
    "\n",
    "    # Using tf.strided_slice as found here: https://www.tensorflow.org/api_docs/python/tf/strided_slice\n",
    "    last = tf.strided_slice( target_data, [0,0], [batch_size,-1], [1,1])\n",
    "    \n",
    "    # Using tf.fill to create an all GO tensor with correct shape (https://www.tensorflow.org/api_docs/python/tf/fill)\n",
    "    all_gos = tf.fill([batch_size,1], target_vocab_to_int['<GO>'])\n",
    "    \n",
    "    preprocessed_target_data = tf.concat( [all_gos, last], 1)\n",
    "    \n",
    "    return preprocessed_target_data\n",
    "\n",
    "\"\"\"\n",
    "DON'T MODIFY ANYTHING IN THIS CELL THAT IS BELOW THIS LINE\n",
    "\"\"\"\n",
    "tests.test_process_encoding_input(process_decoder_input)"
   ]
  },
  {
   "cell_type": "markdown",
   "metadata": {},
   "source": [
    "### Encoding\n",
    "Implement `encoding_layer()` to create a Encoder RNN layer:\n",
    " * Embed the encoder input using [`tf.contrib.layers.embed_sequence`](https://www.tensorflow.org/api_docs/python/tf/contrib/layers/embed_sequence)\n",
    " * Construct a [stacked](https://github.com/tensorflow/tensorflow/blob/6947f65a374ebf29e74bb71e36fd82760056d82c/tensorflow/docs_src/tutorials/recurrent.md#stacking-multiple-lstms) [`tf.contrib.rnn.LSTMCell`](https://www.tensorflow.org/api_docs/python/tf/contrib/rnn/LSTMCell) wrapped in a [`tf.contrib.rnn.DropoutWrapper`](https://www.tensorflow.org/api_docs/python/tf/contrib/rnn/DropoutWrapper)\n",
    " * Pass cell and embedded input to [`tf.nn.dynamic_rnn()`](https://www.tensorflow.org/api_docs/python/tf/nn/dynamic_rnn)"
   ]
  },
  {
   "cell_type": "code",
   "execution_count": 10,
   "metadata": {
    "scrolled": false
   },
   "outputs": [
    {
     "name": "stdout",
     "output_type": "stream",
     "text": [
      "Tests Passed\n"
     ]
    }
   ],
   "source": [
    "from imp import reload\n",
    "reload(tests)\n",
    "\n",
    "def make_cell(rnn_size, keep_prob):\n",
    "    return tf.contrib.rnn.DropoutWrapper(\n",
    "        tf.contrib.rnn.LSTMCell(rnn_size, initializer=tf.random_uniform_initializer(-0.2, 0.2))\n",
    "        , output_keep_prob=keep_prob)\n",
    "\n",
    "def encoding_layer(rnn_inputs, rnn_size, num_layers, keep_prob, \n",
    "                   source_sequence_length, source_vocab_size, \n",
    "                   encoding_embedding_size):\n",
    "    \"\"\"\n",
    "    Create encoding layer\n",
    "    :param rnn_inputs: Inputs for the RNN\n",
    "    :param rnn_size: RNN Size\n",
    "    :param num_layers: Number of layers\n",
    "    :param keep_prob: Dropout keep probability\n",
    "    :param source_sequence_length: a list of the lengths of each sequence in the batch\n",
    "    :param source_vocab_size: vocabulary size of source data\n",
    "    :param encoding_embedding_size: embedding size of source data\n",
    "    :return: tuple (RNN output, RNN state)\n",
    "    \"\"\"\n",
    "    # TODO: Implement Function\n",
    "    \n",
    "    embed_encoder_input = tf.contrib.layers.embed_sequence( rnn_inputs, source_vocab_size, encoding_embedding_size )\n",
    "\n",
    "    RNN_stack = tf.contrib.rnn.MultiRNNCell( [make_cell(rnn_size, keep_prob) for i in range(num_layers)])\n",
    "    \n",
    "    RNN_output, RNN_state = tf.nn.dynamic_rnn( RNN_stack, \\\n",
    "                                              embed_encoder_input, sequence_length=source_sequence_length, dtype=tf.float32)\n",
    "    \n",
    "    return ( RNN_output, RNN_state )\n",
    "\n",
    "\"\"\"\n",
    "DON'T MODIFY ANYTHING IN THIS CELL THAT IS BELOW THIS LINE\n",
    "\"\"\"\n",
    "tests.test_encoding_layer(encoding_layer)"
   ]
  },
  {
   "cell_type": "markdown",
   "metadata": {},
   "source": [
    "### Decoding - Training\n",
    "Create a training decoding layer:\n",
    "* Create a [`tf.contrib.seq2seq.TrainingHelper`](https://www.tensorflow.org/api_docs/python/tf/contrib/seq2seq/TrainingHelper) \n",
    "* Create a [`tf.contrib.seq2seq.BasicDecoder`](https://www.tensorflow.org/api_docs/python/tf/contrib/seq2seq/BasicDecoder)\n",
    "* Obtain the decoder outputs from [`tf.contrib.seq2seq.dynamic_decode`](https://www.tensorflow.org/api_docs/python/tf/contrib/seq2seq/dynamic_decode)"
   ]
  },
  {
   "cell_type": "code",
   "execution_count": 11,
   "metadata": {},
   "outputs": [
    {
     "name": "stdout",
     "output_type": "stream",
     "text": [
      "Tests Passed\n"
     ]
    }
   ],
   "source": [
    "\n",
    "def decoding_layer_train(encoder_state, dec_cell, dec_embed_input, \n",
    "                         target_sequence_length, max_summary_length, \n",
    "                         output_layer, keep_prob):\n",
    "    \"\"\"\n",
    "    Create a decoding layer for training\n",
    "    :param encoder_state: Encoder State\n",
    "    :param dec_cell: Decoder RNN Cell\n",
    "    :param dec_embed_input: Decoder embedded input\n",
    "    :param target_sequence_length: The lengths of each sequence in the target batch\n",
    "    :param max_summary_length: The length of the longest sequence in the batch\n",
    "    :param output_layer: Function to apply the output layer\n",
    "    :param keep_prob: Dropout keep probability\n",
    "    :return: BasicDecoderOutput containing training logits and sample_id\n",
    "    \"\"\"\n",
    "    # TODO: Implement Function\n",
    "    \n",
    "    training_helper = tf.contrib.seq2seq.TrainingHelper(dec_embed_input, sequence_length=target_sequence_length, time_major=False)\n",
    "    \n",
    "    basic_decoder = tf.contrib.seq2seq.BasicDecoder(dec_cell, training_helper, encoder_state, output_layer)\n",
    "    \n",
    "    # dynamic_decode returns two variables with these params, we only care about the first one 'final_outputs'\n",
    "    BasicDecoderOutput, _ = tf.contrib.seq2seq.dynamic_decode( basic_decoder,\\\n",
    "                                                           impute_finished=True, maximum_iterations = max_summary_length)\n",
    "    \n",
    "    return BasicDecoderOutput\n",
    "\n",
    "\n",
    "\"\"\"\n",
    "DON'T MODIFY ANYTHING IN THIS CELL THAT IS BELOW THIS LINE\n",
    "\"\"\"\n",
    "tests.test_decoding_layer_train(decoding_layer_train)"
   ]
  },
  {
   "cell_type": "markdown",
   "metadata": {},
   "source": [
    "### Decoding - Inference\n",
    "Create inference decoder:\n",
    "* Create a [`tf.contrib.seq2seq.GreedyEmbeddingHelper`](https://www.tensorflow.org/api_docs/python/tf/contrib/seq2seq/GreedyEmbeddingHelper)\n",
    "* Create a [`tf.contrib.seq2seq.BasicDecoder`](https://www.tensorflow.org/api_docs/python/tf/contrib/seq2seq/BasicDecoder)\n",
    "* Obtain the decoder outputs from [`tf.contrib.seq2seq.dynamic_decode`](https://www.tensorflow.org/api_docs/python/tf/contrib/seq2seq/dynamic_decode)"
   ]
  },
  {
   "cell_type": "code",
   "execution_count": 12,
   "metadata": {
    "scrolled": true
   },
   "outputs": [
    {
     "name": "stdout",
     "output_type": "stream",
     "text": [
      "Tests Passed\n"
     ]
    }
   ],
   "source": [
    "def decoding_layer_infer(encoder_state, dec_cell, dec_embeddings, start_of_sequence_id,\n",
    "                         end_of_sequence_id, max_target_sequence_length,\n",
    "                         vocab_size, output_layer, batch_size, keep_prob):\n",
    "    \"\"\"\n",
    "    Create a decoding layer for inference\n",
    "    :param encoder_state: Encoder state\n",
    "    :param dec_cell: Decoder RNN Cell\n",
    "    :param dec_embeddings: Decoder embeddings\n",
    "    :param start_of_sequence_id: GO ID\n",
    "    :param end_of_sequence_id: EOS Id\n",
    "    :param max_target_sequence_length: Maximum length of target sequences\n",
    "    :param vocab_size: Size of decoder/target vocabulary\n",
    "    :param decoding_scope: TenorFlow Variable Scope for decoding\n",
    "    :param output_layer: Function to apply the output layer\n",
    "    :param batch_size: Batch size\n",
    "    :param keep_prob: Dropout keep probability\n",
    "    :return: BasicDecoderOutput containing inference logits and sample_id\n",
    "    \"\"\"\n",
    "    # TODO: Implement Function\n",
    "    \n",
    "    start_tokens = tf.tile(tf.constant([start_of_sequence_id], dtype=tf.int32), [batch_size], name='start_tokens')\n",
    "    \n",
    "    helper = tf.contrib.seq2seq.GreedyEmbeddingHelper(dec_embeddings, start_tokens, end_of_sequence_id)\n",
    "    \n",
    "    decoder = tf.contrib.seq2seq.BasicDecoder( dec_cell, helper, encoder_state, output_layer)\n",
    "    \n",
    "    BasicDecoderOutput, _ = tf.contrib.seq2seq.dynamic_decode( decoder, impute_finished = True, maximum_iterations = max_target_sequence_length )\n",
    "    \n",
    "    return BasicDecoderOutput\n",
    "\n",
    "\n",
    "\"\"\"\n",
    "DON'T MODIFY ANYTHING IN THIS CELL THAT IS BELOW THIS LINE\n",
    "\"\"\"\n",
    "tests.test_decoding_layer_infer(decoding_layer_infer)"
   ]
  },
  {
   "cell_type": "markdown",
   "metadata": {},
   "source": [
    "### Build the Decoding Layer\n",
    "Implement `decoding_layer()` to create a Decoder RNN layer.\n",
    "\n",
    "* Embed the target sequences\n",
    "* Construct the decoder LSTM cell (just like you constructed the encoder cell above)\n",
    "* Create an output layer to map the outputs of the decoder to the elements of our vocabulary\n",
    "* Use the your `decoding_layer_train(encoder_state, dec_cell, dec_embed_input, target_sequence_length, max_target_sequence_length, output_layer, keep_prob)` function to get the training logits.\n",
    "* Use your `decoding_layer_infer(encoder_state, dec_cell, dec_embeddings, start_of_sequence_id, end_of_sequence_id, max_target_sequence_length, vocab_size, output_layer, batch_size, keep_prob)` function to get the inference logits.\n",
    "\n",
    "Note: You'll need to use [tf.variable_scope](https://www.tensorflow.org/api_docs/python/tf/variable_scope) to share variables between training and inference."
   ]
  },
  {
   "cell_type": "code",
   "execution_count": 13,
   "metadata": {},
   "outputs": [
    {
     "name": "stdout",
     "output_type": "stream",
     "text": [
      "Tests Passed\n"
     ]
    }
   ],
   "source": [
    "\n",
    "def make_decoding_cell(rnn_size, keep_prob):\n",
    "    cell = tf.contrib.rnn.LSTMCell(rnn_size, initializer=tf.random_uniform_initializer(-0.1, 0.1))\n",
    "    return tf.contrib.rnn.DropoutWrapper(cell, output_keep_prob=keep_prob)\n",
    "    \n",
    "def decoding_layer(dec_input, encoder_state,\n",
    "                   target_sequence_length, max_target_sequence_length,\n",
    "                   rnn_size,\n",
    "                   num_layers, target_vocab_to_int, target_vocab_size,\n",
    "                   batch_size, keep_prob, decoding_embedding_size):\n",
    "    \"\"\"\n",
    "    Create decoding layer\n",
    "    :param dec_input: Decoder input\n",
    "    :param encoder_state: Encoder state\n",
    "    :param target_sequence_length: The lengths of each sequence in the target batch\n",
    "    :param max_target_sequence_length: Maximum length of target sequences\n",
    "    :param rnn_size: RNN Size\n",
    "    :param num_layers: Number of layers\n",
    "    :param target_vocab_to_int: Dictionary to go from the target words to an id\n",
    "    :param target_vocab_size: Size of target vocabulary\n",
    "    :param batch_size: The size of the batch\n",
    "    :param keep_prob: Dropout keep probability\n",
    "    :return: Tuple of (Training BasicDecoderOutput, Inference BasicDecoderOutput)\n",
    "    \"\"\"\n",
    "    # TODO: Implement Function\n",
    "\n",
    "    dec_embeddings = tf.Variable(tf.random_uniform([target_vocab_size, decoding_embedding_size]))\n",
    "\n",
    "    dec_embed_input = tf.nn.embedding_lookup(dec_embeddings, dec_input)\n",
    "    \n",
    "    dec_cell = tf.contrib.rnn.MultiRNNCell( [make_decoding_cell(rnn_size, keep_prob) for _ in range(num_layers)] )\n",
    "    \n",
    "    output_layer = Dense( target_vocab_size, kernel_initializer=tf.truncated_normal_initializer(stddev=0.2))\n",
    "\n",
    "    with tf.variable_scope(\"decode\"):\n",
    "        \n",
    "        training_decoder_output = decoding_layer_train( encoder_state, dec_cell, dec_embed_input, target_sequence_length, \\\n",
    "                                              max_target_sequence_length, output_layer, keep_prob )\n",
    "        \n",
    "    with tf.variable_scope(\"decode\", reuse=True):\n",
    "\n",
    "        inference_decoder_output = decoding_layer_infer(encoder_state, dec_cell, dec_embeddings, target_vocab_to_int['<GO>'], \\\n",
    "                                               target_vocab_to_int['<EOS>'], max_target_sequence_length,\\\n",
    "                                               target_vocab_size, output_layer, batch_size, keep_prob)\n",
    "\n",
    "    return (training_decoder_output, inference_decoder_output)\n",
    "\n",
    "    \n",
    "\n",
    "\n",
    "\"\"\"\n",
    "DON'T MODIFY ANYTHING IN THIS CELL THAT IS BELOW THIS LINE\n",
    "\"\"\"\n",
    "tests.test_decoding_layer(decoding_layer)"
   ]
  },
  {
   "cell_type": "markdown",
   "metadata": {},
   "source": [
    "### Build the Neural Network\n",
    "Apply the functions you implemented above to:\n",
    "\n",
    "- Apply embedding to the input data for the encoder.\n",
    "- Encode the input using your `encoding_layer(rnn_inputs, rnn_size, num_layers, keep_prob,  source_sequence_length, source_vocab_size, encoding_embedding_size)`.\n",
    "- Process target data using your `process_decoder_input(target_data, target_vocab_to_int, batch_size)` function.\n",
    "- Apply embedding to the target data for the decoder.\n",
    "- Decode the encoded input using your `decoding_layer(dec_input, enc_state, target_sequence_length, max_target_sentence_length, rnn_size, num_layers, target_vocab_to_int, target_vocab_size, batch_size, keep_prob, dec_embedding_size)` function."
   ]
  },
  {
   "cell_type": "code",
   "execution_count": 14,
   "metadata": {},
   "outputs": [
    {
     "name": "stdout",
     "output_type": "stream",
     "text": [
      "Tests Passed\n"
     ]
    }
   ],
   "source": [
    "def seq2seq_model(input_data, target_data, keep_prob, batch_size,\n",
    "                  source_sequence_length, target_sequence_length,\n",
    "                  max_target_sentence_length,\n",
    "                  source_vocab_size, target_vocab_size,\n",
    "                  enc_embedding_size, dec_embedding_size,\n",
    "                  rnn_size, num_layers, target_vocab_to_int):\n",
    "    \"\"\"\n",
    "    Build the Sequence-to-Sequence part of the neural network\n",
    "    :param input_data: Input placeholder\n",
    "    :param target_data: Target placeholder\n",
    "    :param keep_prob: Dropout keep probability placeholder\n",
    "    :param batch_size: Batch Size\n",
    "    :param source_sequence_length: Sequence Lengths of source sequences in the batch\n",
    "    :param target_sequence_length: Sequence Lengths of target sequences in the batch\n",
    "    :param source_vocab_size: Source vocabulary size\n",
    "    :param target_vocab_size: Target vocabulary size\n",
    "    :param enc_embedding_size: Decoder embedding size\n",
    "    :param dec_embedding_size: Encoder embedding size\n",
    "    :param rnn_size: RNN Size\n",
    "    :param num_layers: Number of layers\n",
    "    :param target_vocab_to_int: Dictionary to go from the target words to an id\n",
    "    :return: Tuple of (Training BasicDecoderOutput, Inference BasicDecoderOutput)\n",
    "    \"\"\"\n",
    "    # TODO: Implement Function\n",
    "    \n",
    "    \n",
    "    encoding_output, encoding_state = encoding_layer(input_data, rnn_size, num_layers, \\\n",
    "                                                     keep_prob, source_sequence_length, source_vocab_size, enc_embedding_size)\n",
    "\n",
    "    # now send to preprocess...\n",
    "    processed_input = process_decoder_input( target_data, target_vocab_to_int, batch_size)\n",
    "    \n",
    "    training_decoder_output, inference_decoder_output = decoding_layer( processed_input, encoding_state, \\\n",
    "                                                                       target_sequence_length, \\\n",
    "                                                                       tf.reduce_max(target_sequence_length), rnn_size,\\\n",
    "                                                                       num_layers, target_vocab_to_int, target_vocab_size, \\\n",
    "                                                                       batch_size, keep_prob, dec_embedding_size)\n",
    "    \n",
    "    return (training_decoder_output, inference_decoder_output)\n",
    "\n",
    "\n",
    "\"\"\"\n",
    "DON'T MODIFY ANYTHING IN THIS CELL THAT IS BELOW THIS LINE\n",
    "\"\"\"\n",
    "tests.test_seq2seq_model(seq2seq_model)"
   ]
  },
  {
   "cell_type": "markdown",
   "metadata": {},
   "source": [
    "## Neural Network Training\n",
    "### Hyperparameters\n",
    "Tune the following parameters:\n",
    "\n",
    "- Set `epochs` to the number of epochs.\n",
    "- Set `batch_size` to the batch size.\n",
    "- Set `rnn_size` to the size of the RNNs.\n",
    "- Set `num_layers` to the number of layers.\n",
    "- Set `encoding_embedding_size` to the size of the embedding for the encoder.\n",
    "- Set `decoding_embedding_size` to the size of the embedding for the decoder.\n",
    "- Set `learning_rate` to the learning rate.\n",
    "- Set `keep_probability` to the Dropout keep probability\n",
    "- Set `display_step` to state how many steps between each debug output statement"
   ]
  },
  {
   "cell_type": "code",
   "execution_count": 15,
   "metadata": {
    "collapsed": true
   },
   "outputs": [],
   "source": [
    "# Number of Epochs\n",
    "epochs = 10\n",
    "# Batch Size\n",
    "batch_size = 64\n",
    "# RNN Size\n",
    "rnn_size = 128\n",
    "# Number of Layers\n",
    "num_layers = 1\n",
    "# Embedding Size\n",
    "encoding_embedding_size = 128\n",
    "decoding_embedding_size = 128\n",
    "# Learning Rate\n",
    "learning_rate = 0.0015\n",
    "# Dropout Keep Probability\n",
    "keep_probability = 0.6\n",
    "display_step = 100"
   ]
  },
  {
   "cell_type": "markdown",
   "metadata": {},
   "source": [
    "### Build the Graph\n",
    "Build the graph using the neural network you implemented."
   ]
  },
  {
   "cell_type": "code",
   "execution_count": 16,
   "metadata": {
    "collapsed": true
   },
   "outputs": [],
   "source": [
    "\"\"\"\n",
    "DON'T MODIFY ANYTHING IN THIS CELL\n",
    "\"\"\"\n",
    "save_path = 'checkpoints/dev'\n",
    "(source_int_text, target_int_text), (source_vocab_to_int, target_vocab_to_int), _ = helper.load_preprocess()\n",
    "max_target_sentence_length = max([len(sentence) for sentence in source_int_text])\n",
    "\n",
    "train_graph = tf.Graph()\n",
    "with train_graph.as_default():\n",
    "    input_data, targets, lr, keep_prob, target_sequence_length, max_target_sequence_length, source_sequence_length = model_inputs()\n",
    "\n",
    "    #sequence_length = tf.placeholder_with_default(max_target_sentence_length, None, name='sequence_length')\n",
    "    input_shape = tf.shape(input_data)\n",
    "\n",
    "    train_logits, inference_logits = seq2seq_model(tf.reverse(input_data, [-1]),\n",
    "                                                   targets,\n",
    "                                                   keep_prob,\n",
    "                                                   batch_size,\n",
    "                                                   source_sequence_length,\n",
    "                                                   target_sequence_length,\n",
    "                                                   max_target_sequence_length,\n",
    "                                                   len(source_vocab_to_int),\n",
    "                                                   len(target_vocab_to_int),\n",
    "                                                   encoding_embedding_size,\n",
    "                                                   decoding_embedding_size,\n",
    "                                                   rnn_size,\n",
    "                                                   num_layers,\n",
    "                                                   target_vocab_to_int)\n",
    "\n",
    "\n",
    "    training_logits = tf.identity(train_logits.rnn_output, name='logits')\n",
    "    inference_logits = tf.identity(inference_logits.sample_id, name='predictions')\n",
    "\n",
    "    masks = tf.sequence_mask(target_sequence_length, max_target_sequence_length, dtype=tf.float32, name='masks')\n",
    "\n",
    "    with tf.name_scope(\"optimization\"):\n",
    "        # Loss function\n",
    "        cost = tf.contrib.seq2seq.sequence_loss(\n",
    "            training_logits,\n",
    "            targets,\n",
    "            masks)\n",
    "\n",
    "        # Optimizer\n",
    "        optimizer = tf.train.AdamOptimizer(lr)\n",
    "\n",
    "        # Gradient Clipping\n",
    "        gradients = optimizer.compute_gradients(cost)\n",
    "        capped_gradients = [(tf.clip_by_value(grad, -1., 1.), var) for grad, var in gradients if grad is not None]\n",
    "        train_op = optimizer.apply_gradients(capped_gradients)\n"
   ]
  },
  {
   "cell_type": "markdown",
   "metadata": {},
   "source": [
    "Batch and pad the source and target sequences"
   ]
  },
  {
   "cell_type": "code",
   "execution_count": 17,
   "metadata": {
    "collapsed": true
   },
   "outputs": [],
   "source": [
    "\"\"\"\n",
    "DON'T MODIFY ANYTHING IN THIS CELL\n",
    "\"\"\"\n",
    "def pad_sentence_batch(sentence_batch, pad_int):\n",
    "    \"\"\"Pad sentences with <PAD> so that each sentence of a batch has the same length\"\"\"\n",
    "    max_sentence = max([len(sentence) for sentence in sentence_batch])\n",
    "    return [sentence + [pad_int] * (max_sentence - len(sentence)) for sentence in sentence_batch]\n",
    "\n",
    "\n",
    "def get_batches(sources, targets, batch_size, source_pad_int, target_pad_int):\n",
    "    \"\"\"Batch targets, sources, and the lengths of their sentences together\"\"\"\n",
    "    for batch_i in range(0, len(sources)//batch_size):\n",
    "        start_i = batch_i * batch_size\n",
    "\n",
    "        # Slice the right amount for the batch\n",
    "        sources_batch = sources[start_i:start_i + batch_size]\n",
    "        targets_batch = targets[start_i:start_i + batch_size]\n",
    "\n",
    "        # Pad\n",
    "        pad_sources_batch = np.array(pad_sentence_batch(sources_batch, source_pad_int))\n",
    "        pad_targets_batch = np.array(pad_sentence_batch(targets_batch, target_pad_int))\n",
    "\n",
    "        # Need the lengths for the _lengths parameters\n",
    "        pad_targets_lengths = []\n",
    "        for target in pad_targets_batch:\n",
    "            pad_targets_lengths.append(len(target))\n",
    "\n",
    "        pad_source_lengths = []\n",
    "        for source in pad_sources_batch:\n",
    "            pad_source_lengths.append(len(source))\n",
    "\n",
    "        yield pad_sources_batch, pad_targets_batch, pad_source_lengths, pad_targets_lengths\n"
   ]
  },
  {
   "cell_type": "markdown",
   "metadata": {},
   "source": [
    "### Train\n",
    "Train the neural network on the preprocessed data. If you have a hard time getting a good loss, check the forms to see if anyone is having the same problem."
   ]
  },
  {
   "cell_type": "code",
   "execution_count": 18,
   "metadata": {
    "scrolled": true
   },
   "outputs": [
    {
     "name": "stdout",
     "output_type": "stream",
     "text": [
      "Epoch   0 Batch  100/2154 - Train Accuracy: 0.3743, Validation Accuracy: 0.3949, Loss: 1.7201\n",
      "Epoch   0 Batch  200/2154 - Train Accuracy: 0.5133, Validation Accuracy: 0.5426, Loss: 1.0048\n",
      "Epoch   0 Batch  300/2154 - Train Accuracy: 0.5082, Validation Accuracy: 0.5753, Loss: 0.8945\n",
      "Epoch   0 Batch  400/2154 - Train Accuracy: 0.5875, Validation Accuracy: 0.5845, Loss: 0.7148\n",
      "Epoch   0 Batch  500/2154 - Train Accuracy: 0.6127, Validation Accuracy: 0.6555, Loss: 0.5989\n",
      "Epoch   0 Batch  600/2154 - Train Accuracy: 0.7196, Validation Accuracy: 0.7109, Loss: 0.4947\n",
      "Epoch   0 Batch  700/2154 - Train Accuracy: 0.6957, Validation Accuracy: 0.6996, Loss: 0.4476\n",
      "Epoch   0 Batch  800/2154 - Train Accuracy: 0.7812, Validation Accuracy: 0.7443, Loss: 0.3936\n",
      "Epoch   0 Batch  900/2154 - Train Accuracy: 0.7804, Validation Accuracy: 0.8118, Loss: 0.3787\n",
      "Epoch   0 Batch 1000/2154 - Train Accuracy: 0.7917, Validation Accuracy: 0.7770, Loss: 0.2667\n",
      "Epoch   0 Batch 1100/2154 - Train Accuracy: 0.7992, Validation Accuracy: 0.8161, Loss: 0.2974\n",
      "Epoch   0 Batch 1200/2154 - Train Accuracy: 0.8709, Validation Accuracy: 0.8381, Loss: 0.2886\n",
      "Epoch   0 Batch 1300/2154 - Train Accuracy: 0.8453, Validation Accuracy: 0.8849, Loss: 0.2230\n",
      "Epoch   0 Batch 1400/2154 - Train Accuracy: 0.9038, Validation Accuracy: 0.8757, Loss: 0.1699\n",
      "Epoch   0 Batch 1500/2154 - Train Accuracy: 0.8701, Validation Accuracy: 0.8722, Loss: 0.1692\n",
      "Epoch   0 Batch 1600/2154 - Train Accuracy: 0.8344, Validation Accuracy: 0.9183, Loss: 0.1625\n",
      "Epoch   0 Batch 1700/2154 - Train Accuracy: 0.8766, Validation Accuracy: 0.9247, Loss: 0.1407\n",
      "Epoch   0 Batch 1800/2154 - Train Accuracy: 0.9367, Validation Accuracy: 0.9219, Loss: 0.1163\n",
      "Epoch   0 Batch 1900/2154 - Train Accuracy: 0.9641, Validation Accuracy: 0.8800, Loss: 0.0982\n",
      "Epoch   0 Batch 2000/2154 - Train Accuracy: 0.9422, Validation Accuracy: 0.9112, Loss: 0.1178\n",
      "Epoch   0 Batch 2100/2154 - Train Accuracy: 0.9336, Validation Accuracy: 0.9148, Loss: 0.0883\n",
      "Epoch   1 Batch  100/2154 - Train Accuracy: 0.8876, Validation Accuracy: 0.9084, Loss: 0.1207\n",
      "Epoch   1 Batch  200/2154 - Train Accuracy: 0.9266, Validation Accuracy: 0.9134, Loss: 0.0767\n",
      "Epoch   1 Batch  300/2154 - Train Accuracy: 0.9252, Validation Accuracy: 0.8757, Loss: 0.0933\n",
      "Epoch   1 Batch  400/2154 - Train Accuracy: 0.9445, Validation Accuracy: 0.9169, Loss: 0.0802\n",
      "Epoch   1 Batch  500/2154 - Train Accuracy: 0.9622, Validation Accuracy: 0.9197, Loss: 0.0787\n",
      "Epoch   1 Batch  600/2154 - Train Accuracy: 0.9745, Validation Accuracy: 0.9368, Loss: 0.0612\n",
      "Epoch   1 Batch  700/2154 - Train Accuracy: 0.9137, Validation Accuracy: 0.9141, Loss: 0.0596\n",
      "Epoch   1 Batch  800/2154 - Train Accuracy: 0.9622, Validation Accuracy: 0.9347, Loss: 0.0605\n",
      "Epoch   1 Batch  900/2154 - Train Accuracy: 0.9646, Validation Accuracy: 0.9169, Loss: 0.0708\n",
      "Epoch   1 Batch 1000/2154 - Train Accuracy: 0.9219, Validation Accuracy: 0.9368, Loss: 0.0615\n",
      "Epoch   1 Batch 1100/2154 - Train Accuracy: 0.9016, Validation Accuracy: 0.9489, Loss: 0.0753\n",
      "Epoch   1 Batch 1200/2154 - Train Accuracy: 0.9268, Validation Accuracy: 0.9716, Loss: 0.1087\n",
      "Epoch   1 Batch 1300/2154 - Train Accuracy: 0.9398, Validation Accuracy: 0.9474, Loss: 0.0673\n",
      "Epoch   1 Batch 1400/2154 - Train Accuracy: 0.9449, Validation Accuracy: 0.9567, Loss: 0.0531\n",
      "Epoch   1 Batch 1500/2154 - Train Accuracy: 0.9581, Validation Accuracy: 0.9545, Loss: 0.0604\n",
      "Epoch   1 Batch 1600/2154 - Train Accuracy: 0.8898, Validation Accuracy: 0.9645, Loss: 0.0595\n",
      "Epoch   1 Batch 1700/2154 - Train Accuracy: 0.9445, Validation Accuracy: 0.9787, Loss: 0.0549\n",
      "Epoch   1 Batch 1800/2154 - Train Accuracy: 0.9586, Validation Accuracy: 0.9624, Loss: 0.0646\n",
      "Epoch   1 Batch 1900/2154 - Train Accuracy: 0.9508, Validation Accuracy: 0.9205, Loss: 0.0503\n",
      "Epoch   1 Batch 2000/2154 - Train Accuracy: 0.9406, Validation Accuracy: 0.9205, Loss: 0.0752\n",
      "Epoch   1 Batch 2100/2154 - Train Accuracy: 0.9695, Validation Accuracy: 0.9716, Loss: 0.0440\n",
      "Epoch   2 Batch  100/2154 - Train Accuracy: 0.9137, Validation Accuracy: 0.9368, Loss: 0.0771\n",
      "Epoch   2 Batch  200/2154 - Train Accuracy: 0.9633, Validation Accuracy: 0.9673, Loss: 0.0397\n",
      "Epoch   2 Batch  300/2154 - Train Accuracy: 0.9655, Validation Accuracy: 0.9112, Loss: 0.0589\n",
      "Epoch   2 Batch  400/2154 - Train Accuracy: 0.9719, Validation Accuracy: 0.9680, Loss: 0.0360\n",
      "Epoch   2 Batch  500/2154 - Train Accuracy: 0.9778, Validation Accuracy: 0.9460, Loss: 0.0463\n",
      "Epoch   2 Batch  600/2154 - Train Accuracy: 0.9400, Validation Accuracy: 0.9531, Loss: 0.0332\n",
      "Epoch   2 Batch  700/2154 - Train Accuracy: 0.9548, Validation Accuracy: 0.9382, Loss: 0.0320\n",
      "Epoch   2 Batch  800/2154 - Train Accuracy: 0.9704, Validation Accuracy: 0.9403, Loss: 0.0338\n",
      "Epoch   2 Batch  900/2154 - Train Accuracy: 0.9605, Validation Accuracy: 0.9702, Loss: 0.0524\n",
      "Epoch   2 Batch 1000/2154 - Train Accuracy: 0.9479, Validation Accuracy: 0.9560, Loss: 0.0313\n",
      "Epoch   2 Batch 1100/2154 - Train Accuracy: 0.9352, Validation Accuracy: 0.9460, Loss: 0.0473\n",
      "Epoch   2 Batch 1200/2154 - Train Accuracy: 0.9062, Validation Accuracy: 0.9673, Loss: 0.0841\n",
      "Epoch   2 Batch 1300/2154 - Train Accuracy: 0.9672, Validation Accuracy: 0.9524, Loss: 0.0370\n",
      "Epoch   2 Batch 1400/2154 - Train Accuracy: 0.9720, Validation Accuracy: 0.9666, Loss: 0.0310\n",
      "Epoch   2 Batch 1500/2154 - Train Accuracy: 0.9745, Validation Accuracy: 0.9645, Loss: 0.0357\n",
      "Epoch   2 Batch 1600/2154 - Train Accuracy: 0.9289, Validation Accuracy: 0.9688, Loss: 0.0481\n",
      "Epoch   2 Batch 1700/2154 - Train Accuracy: 0.9594, Validation Accuracy: 0.9879, Loss: 0.0368\n",
      "Epoch   2 Batch 1800/2154 - Train Accuracy: 0.9711, Validation Accuracy: 0.9737, Loss: 0.0371\n",
      "Epoch   2 Batch 1900/2154 - Train Accuracy: 0.9758, Validation Accuracy: 0.9531, Loss: 0.0330\n",
      "Epoch   2 Batch 2000/2154 - Train Accuracy: 0.9617, Validation Accuracy: 0.9723, Loss: 0.0511\n",
      "Epoch   2 Batch 2100/2154 - Train Accuracy: 0.9781, Validation Accuracy: 0.9737, Loss: 0.0353\n",
      "Epoch   3 Batch  100/2154 - Train Accuracy: 0.9442, Validation Accuracy: 0.9709, Loss: 0.0666\n",
      "Epoch   3 Batch  200/2154 - Train Accuracy: 0.9914, Validation Accuracy: 0.9531, Loss: 0.0203\n",
      "Epoch   3 Batch  300/2154 - Train Accuracy: 0.9770, Validation Accuracy: 0.9616, Loss: 0.0457\n",
      "Epoch   3 Batch  400/2154 - Train Accuracy: 0.9789, Validation Accuracy: 0.9723, Loss: 0.0308\n",
      "Epoch   3 Batch  500/2154 - Train Accuracy: 0.9901, Validation Accuracy: 0.9553, Loss: 0.0291\n",
      "Epoch   3 Batch  600/2154 - Train Accuracy: 0.9589, Validation Accuracy: 0.9751, Loss: 0.0217\n",
      "Epoch   3 Batch  700/2154 - Train Accuracy: 0.9630, Validation Accuracy: 0.9645, Loss: 0.0270\n",
      "Epoch   3 Batch  800/2154 - Train Accuracy: 0.9827, Validation Accuracy: 0.9425, Loss: 0.0289\n",
      "Epoch   3 Batch  900/2154 - Train Accuracy: 0.9712, Validation Accuracy: 0.9510, Loss: 0.0291\n",
      "Epoch   3 Batch 1000/2154 - Train Accuracy: 0.9747, Validation Accuracy: 0.9680, Loss: 0.0312\n",
      "Epoch   3 Batch 1100/2154 - Train Accuracy: 0.9500, Validation Accuracy: 0.9616, Loss: 0.0456\n",
      "Epoch   3 Batch 1200/2154 - Train Accuracy: 0.9433, Validation Accuracy: 0.9595, Loss: 0.0527\n",
      "Epoch   3 Batch 1300/2154 - Train Accuracy: 0.9609, Validation Accuracy: 0.9659, Loss: 0.0292\n",
      "Epoch   3 Batch 1400/2154 - Train Accuracy: 0.9613, Validation Accuracy: 0.9567, Loss: 0.0230\n",
      "Epoch   3 Batch 1500/2154 - Train Accuracy: 0.9827, Validation Accuracy: 0.9901, Loss: 0.0232\n",
      "Epoch   3 Batch 1600/2154 - Train Accuracy: 0.9891, Validation Accuracy: 0.9702, Loss: 0.0335\n",
      "Epoch   3 Batch 1700/2154 - Train Accuracy: 0.9641, Validation Accuracy: 0.9993, Loss: 0.0283\n",
      "Epoch   3 Batch 1800/2154 - Train Accuracy: 0.9797, Validation Accuracy: 0.9680, Loss: 0.0328\n",
      "Epoch   3 Batch 1900/2154 - Train Accuracy: 0.9820, Validation Accuracy: 0.9574, Loss: 0.0312\n",
      "Epoch   3 Batch 2000/2154 - Train Accuracy: 0.9531, Validation Accuracy: 0.9879, Loss: 0.0387\n",
      "Epoch   3 Batch 2100/2154 - Train Accuracy: 0.9859, Validation Accuracy: 0.9730, Loss: 0.0214\n",
      "Epoch   4 Batch  100/2154 - Train Accuracy: 0.9546, Validation Accuracy: 0.9680, Loss: 0.0618\n",
      "Epoch   4 Batch  200/2154 - Train Accuracy: 0.9992, Validation Accuracy: 0.9794, Loss: 0.0158\n",
      "Epoch   4 Batch  300/2154 - Train Accuracy: 0.9753, Validation Accuracy: 0.9751, Loss: 0.0280\n",
      "Epoch   4 Batch  400/2154 - Train Accuracy: 0.9938, Validation Accuracy: 0.9936, Loss: 0.0207\n"
     ]
    },
    {
     "name": "stdout",
     "output_type": "stream",
     "text": [
      "Epoch   4 Batch  500/2154 - Train Accuracy: 0.9942, Validation Accuracy: 0.9759, Loss: 0.0212\n",
      "Epoch   4 Batch  600/2154 - Train Accuracy: 0.9794, Validation Accuracy: 0.9389, Loss: 0.0277\n",
      "Epoch   4 Batch  700/2154 - Train Accuracy: 0.9762, Validation Accuracy: 0.9666, Loss: 0.0175\n",
      "Epoch   4 Batch  800/2154 - Train Accuracy: 0.9984, Validation Accuracy: 0.9709, Loss: 0.0211\n",
      "Epoch   4 Batch  900/2154 - Train Accuracy: 0.9852, Validation Accuracy: 0.9815, Loss: 0.0248\n",
      "Epoch   4 Batch 1000/2154 - Train Accuracy: 0.9479, Validation Accuracy: 0.9936, Loss: 0.0237\n",
      "Epoch   4 Batch 1100/2154 - Train Accuracy: 0.9508, Validation Accuracy: 0.9432, Loss: 0.0267\n",
      "Epoch   4 Batch 1200/2154 - Train Accuracy: 0.9449, Validation Accuracy: 0.9808, Loss: 0.0516\n",
      "Epoch   4 Batch 1300/2154 - Train Accuracy: 0.9875, Validation Accuracy: 0.9844, Loss: 0.0254\n",
      "Epoch   4 Batch 1400/2154 - Train Accuracy: 0.9942, Validation Accuracy: 0.9759, Loss: 0.0200\n",
      "Epoch   4 Batch 1500/2154 - Train Accuracy: 0.9967, Validation Accuracy: 0.9822, Loss: 0.0224\n",
      "Epoch   4 Batch 1600/2154 - Train Accuracy: 0.9656, Validation Accuracy: 0.9893, Loss: 0.0288\n",
      "Epoch   4 Batch 1700/2154 - Train Accuracy: 0.9437, Validation Accuracy: 0.9893, Loss: 0.0345\n",
      "Epoch   4 Batch 1800/2154 - Train Accuracy: 0.9852, Validation Accuracy: 0.9666, Loss: 0.0375\n",
      "Epoch   4 Batch 1900/2154 - Train Accuracy: 0.9969, Validation Accuracy: 0.9695, Loss: 0.0213\n",
      "Epoch   4 Batch 2000/2154 - Train Accuracy: 0.9656, Validation Accuracy: 0.9588, Loss: 0.0312\n",
      "Epoch   4 Batch 2100/2154 - Train Accuracy: 0.9789, Validation Accuracy: 0.9837, Loss: 0.0231\n",
      "Epoch   5 Batch  100/2154 - Train Accuracy: 0.9561, Validation Accuracy: 0.9673, Loss: 0.0528\n",
      "Epoch   5 Batch  200/2154 - Train Accuracy: 0.9992, Validation Accuracy: 0.9886, Loss: 0.0101\n",
      "Epoch   5 Batch  300/2154 - Train Accuracy: 0.9729, Validation Accuracy: 0.9673, Loss: 0.0253\n",
      "Epoch   5 Batch  400/2154 - Train Accuracy: 0.9789, Validation Accuracy: 0.9879, Loss: 0.0156\n",
      "Epoch   5 Batch  500/2154 - Train Accuracy: 0.9729, Validation Accuracy: 0.9837, Loss: 0.0229\n",
      "Epoch   5 Batch  600/2154 - Train Accuracy: 0.9984, Validation Accuracy: 0.9837, Loss: 0.0180\n",
      "Epoch   5 Batch  700/2154 - Train Accuracy: 0.9646, Validation Accuracy: 0.9766, Loss: 0.0217\n",
      "Epoch   5 Batch  800/2154 - Train Accuracy: 0.9868, Validation Accuracy: 0.9503, Loss: 0.0151\n",
      "Epoch   5 Batch  900/2154 - Train Accuracy: 0.9720, Validation Accuracy: 0.9624, Loss: 0.0221\n",
      "Epoch   5 Batch 1000/2154 - Train Accuracy: 0.9829, Validation Accuracy: 0.9901, Loss: 0.0245\n",
      "Epoch   5 Batch 1100/2154 - Train Accuracy: 0.9695, Validation Accuracy: 0.9595, Loss: 0.0221\n",
      "Epoch   5 Batch 1200/2154 - Train Accuracy: 0.9507, Validation Accuracy: 0.9986, Loss: 0.0462\n",
      "Epoch   5 Batch 1300/2154 - Train Accuracy: 0.9789, Validation Accuracy: 0.9759, Loss: 0.0269\n",
      "Epoch   5 Batch 1400/2154 - Train Accuracy: 0.9934, Validation Accuracy: 0.9744, Loss: 0.0090\n",
      "Epoch   5 Batch 1500/2154 - Train Accuracy: 0.9860, Validation Accuracy: 0.9709, Loss: 0.0190\n",
      "Epoch   5 Batch 1600/2154 - Train Accuracy: 0.9953, Validation Accuracy: 0.9893, Loss: 0.0296\n",
      "Epoch   5 Batch 1700/2154 - Train Accuracy: 0.9563, Validation Accuracy: 0.9943, Loss: 0.0244\n",
      "Epoch   5 Batch 1800/2154 - Train Accuracy: 0.9734, Validation Accuracy: 0.9943, Loss: 0.0345\n",
      "Epoch   5 Batch 1900/2154 - Train Accuracy: 0.9789, Validation Accuracy: 0.9780, Loss: 0.0180\n",
      "Epoch   5 Batch 2000/2154 - Train Accuracy: 0.9688, Validation Accuracy: 0.9808, Loss: 0.0274\n",
      "Epoch   5 Batch 2100/2154 - Train Accuracy: 0.9969, Validation Accuracy: 0.9879, Loss: 0.0133\n",
      "Epoch   6 Batch  100/2154 - Train Accuracy: 0.9754, Validation Accuracy: 0.9893, Loss: 0.0409\n",
      "Epoch   6 Batch  200/2154 - Train Accuracy: 0.9953, Validation Accuracy: 0.9751, Loss: 0.0094\n",
      "Epoch   6 Batch  300/2154 - Train Accuracy: 0.9868, Validation Accuracy: 0.9794, Loss: 0.0212\n",
      "Epoch   6 Batch  400/2154 - Train Accuracy: 0.9664, Validation Accuracy: 0.9936, Loss: 0.0161\n",
      "Epoch   6 Batch  500/2154 - Train Accuracy: 0.9720, Validation Accuracy: 0.9773, Loss: 0.0181\n",
      "Epoch   6 Batch  600/2154 - Train Accuracy: 0.9597, Validation Accuracy: 0.9844, Loss: 0.0182\n",
      "Epoch   6 Batch  700/2154 - Train Accuracy: 0.9844, Validation Accuracy: 0.9794, Loss: 0.0139\n",
      "Epoch   6 Batch  800/2154 - Train Accuracy: 0.9877, Validation Accuracy: 0.9936, Loss: 0.0099\n",
      "Epoch   6 Batch  900/2154 - Train Accuracy: 0.9877, Validation Accuracy: 0.9737, Loss: 0.0163\n",
      "Epoch   6 Batch 1000/2154 - Train Accuracy: 0.9829, Validation Accuracy: 0.9695, Loss: 0.0142\n",
      "Epoch   6 Batch 1100/2154 - Train Accuracy: 0.9672, Validation Accuracy: 0.9943, Loss: 0.0263\n",
      "Epoch   6 Batch 1200/2154 - Train Accuracy: 0.9663, Validation Accuracy: 0.9751, Loss: 0.0440\n",
      "Epoch   6 Batch 1300/2154 - Train Accuracy: 0.9898, Validation Accuracy: 0.9815, Loss: 0.0101\n",
      "Epoch   6 Batch 1400/2154 - Train Accuracy: 1.0000, Validation Accuracy: 0.9794, Loss: 0.0132\n",
      "Epoch   6 Batch 1500/2154 - Train Accuracy: 0.9918, Validation Accuracy: 0.9993, Loss: 0.0135\n",
      "Epoch   6 Batch 1600/2154 - Train Accuracy: 0.9766, Validation Accuracy: 0.9844, Loss: 0.0254\n",
      "Epoch   6 Batch 1700/2154 - Train Accuracy: 0.9664, Validation Accuracy: 0.9936, Loss: 0.0216\n",
      "Epoch   6 Batch 1800/2154 - Train Accuracy: 0.9852, Validation Accuracy: 0.9936, Loss: 0.0274\n",
      "Epoch   6 Batch 1900/2154 - Train Accuracy: 0.9945, Validation Accuracy: 0.9886, Loss: 0.0198\n",
      "Epoch   6 Batch 2000/2154 - Train Accuracy: 0.9656, Validation Accuracy: 0.9936, Loss: 0.0221\n",
      "Epoch   6 Batch 2100/2154 - Train Accuracy: 0.9984, Validation Accuracy: 0.9943, Loss: 0.0136\n",
      "Epoch   7 Batch  100/2154 - Train Accuracy: 0.9814, Validation Accuracy: 0.9794, Loss: 0.0403\n",
      "Epoch   7 Batch  200/2154 - Train Accuracy: 0.9961, Validation Accuracy: 0.9893, Loss: 0.0103\n",
      "Epoch   7 Batch  300/2154 - Train Accuracy: 0.9967, Validation Accuracy: 0.9901, Loss: 0.0198\n",
      "Epoch   7 Batch  400/2154 - Train Accuracy: 0.9938, Validation Accuracy: 0.9723, Loss: 0.0132\n",
      "Epoch   7 Batch  500/2154 - Train Accuracy: 0.9794, Validation Accuracy: 0.9929, Loss: 0.0225\n",
      "Epoch   7 Batch  600/2154 - Train Accuracy: 0.9877, Validation Accuracy: 0.9744, Loss: 0.0086\n",
      "Epoch   7 Batch  700/2154 - Train Accuracy: 0.9770, Validation Accuracy: 0.9744, Loss: 0.0111\n",
      "Epoch   7 Batch  800/2154 - Train Accuracy: 0.9729, Validation Accuracy: 0.9936, Loss: 0.0108\n",
      "Epoch   7 Batch  900/2154 - Train Accuracy: 0.9877, Validation Accuracy: 0.9851, Loss: 0.0147\n",
      "Epoch   7 Batch 1000/2154 - Train Accuracy: 0.9673, Validation Accuracy: 0.9851, Loss: 0.0123\n",
      "Epoch   7 Batch 1100/2154 - Train Accuracy: 0.9836, Validation Accuracy: 0.9943, Loss: 0.0128\n",
      "Epoch   7 Batch 1200/2154 - Train Accuracy: 0.9548, Validation Accuracy: 0.9695, Loss: 0.0340\n",
      "Epoch   7 Batch 1300/2154 - Train Accuracy: 1.0000, Validation Accuracy: 0.9943, Loss: 0.0135\n",
      "Epoch   7 Batch 1400/2154 - Train Accuracy: 1.0000, Validation Accuracy: 0.9751, Loss: 0.0055\n",
      "Epoch   7 Batch 1500/2154 - Train Accuracy: 0.9934, Validation Accuracy: 0.9943, Loss: 0.0152\n",
      "Epoch   7 Batch 1600/2154 - Train Accuracy: 0.9875, Validation Accuracy: 0.9886, Loss: 0.0217\n",
      "Epoch   7 Batch 1700/2154 - Train Accuracy: 0.9789, Validation Accuracy: 0.9893, Loss: 0.0246\n",
      "Epoch   7 Batch 1800/2154 - Train Accuracy: 0.9734, Validation Accuracy: 0.9936, Loss: 0.0246\n",
      "Epoch   7 Batch 1900/2154 - Train Accuracy: 0.9758, Validation Accuracy: 0.9830, Loss: 0.0259\n",
      "Epoch   7 Batch 2000/2154 - Train Accuracy: 0.9789, Validation Accuracy: 0.9950, Loss: 0.0347\n",
      "Epoch   7 Batch 2100/2154 - Train Accuracy: 0.9938, Validation Accuracy: 0.9844, Loss: 0.0134\n",
      "Epoch   8 Batch  100/2154 - Train Accuracy: 0.9769, Validation Accuracy: 0.9893, Loss: 0.0456\n",
      "Epoch   8 Batch  200/2154 - Train Accuracy: 1.0000, Validation Accuracy: 0.9893, Loss: 0.0099\n",
      "Epoch   8 Batch  300/2154 - Train Accuracy: 0.9975, Validation Accuracy: 0.9787, Loss: 0.0211\n",
      "Epoch   8 Batch  400/2154 - Train Accuracy: 0.9906, Validation Accuracy: 0.9872, Loss: 0.0119\n",
      "Epoch   8 Batch  500/2154 - Train Accuracy: 0.9762, Validation Accuracy: 0.9936, Loss: 0.0224\n",
      "Epoch   8 Batch  600/2154 - Train Accuracy: 0.9951, Validation Accuracy: 0.9744, Loss: 0.0142\n",
      "Epoch   8 Batch  700/2154 - Train Accuracy: 0.9762, Validation Accuracy: 0.9858, Loss: 0.0115\n",
      "Epoch   8 Batch  800/2154 - Train Accuracy: 0.9893, Validation Accuracy: 0.9858, Loss: 0.0105\n"
     ]
    },
    {
     "name": "stdout",
     "output_type": "stream",
     "text": [
      "Epoch   8 Batch  900/2154 - Train Accuracy: 0.9745, Validation Accuracy: 0.9723, Loss: 0.0226\n",
      "Epoch   8 Batch 1000/2154 - Train Accuracy: 0.9829, Validation Accuracy: 0.9943, Loss: 0.0160\n",
      "Epoch   8 Batch 1100/2154 - Train Accuracy: 0.9836, Validation Accuracy: 0.9822, Loss: 0.0172\n",
      "Epoch   8 Batch 1200/2154 - Train Accuracy: 0.9548, Validation Accuracy: 0.9830, Loss: 0.0375\n",
      "Epoch   8 Batch 1300/2154 - Train Accuracy: 0.9992, Validation Accuracy: 0.9844, Loss: 0.0133\n",
      "Epoch   8 Batch 1400/2154 - Train Accuracy: 1.0000, Validation Accuracy: 0.9751, Loss: 0.0095\n",
      "Epoch   8 Batch 1500/2154 - Train Accuracy: 0.9992, Validation Accuracy: 0.9943, Loss: 0.0152\n",
      "Epoch   8 Batch 1600/2154 - Train Accuracy: 0.9961, Validation Accuracy: 0.9744, Loss: 0.0153\n",
      "Epoch   8 Batch 1700/2154 - Train Accuracy: 0.9484, Validation Accuracy: 0.9943, Loss: 0.0208\n",
      "Epoch   8 Batch 1800/2154 - Train Accuracy: 0.9867, Validation Accuracy: 0.9943, Loss: 0.0257\n",
      "Epoch   8 Batch 1900/2154 - Train Accuracy: 0.9945, Validation Accuracy: 0.9780, Loss: 0.0205\n",
      "Epoch   8 Batch 2000/2154 - Train Accuracy: 0.9844, Validation Accuracy: 0.9844, Loss: 0.0191\n",
      "Epoch   8 Batch 2100/2154 - Train Accuracy: 0.9969, Validation Accuracy: 0.9950, Loss: 0.0093\n",
      "Epoch   9 Batch  100/2154 - Train Accuracy: 0.9777, Validation Accuracy: 0.9901, Loss: 0.0377\n",
      "Epoch   9 Batch  200/2154 - Train Accuracy: 0.9992, Validation Accuracy: 0.9950, Loss: 0.0053\n",
      "Epoch   9 Batch  300/2154 - Train Accuracy: 0.9975, Validation Accuracy: 0.9950, Loss: 0.0188\n",
      "Epoch   9 Batch  400/2154 - Train Accuracy: 0.9836, Validation Accuracy: 0.9872, Loss: 0.0081\n",
      "Epoch   9 Batch  500/2154 - Train Accuracy: 0.9836, Validation Accuracy: 0.9950, Loss: 0.0186\n",
      "Epoch   9 Batch  600/2154 - Train Accuracy: 0.9984, Validation Accuracy: 0.9950, Loss: 0.0165\n",
      "Epoch   9 Batch  700/2154 - Train Accuracy: 0.9745, Validation Accuracy: 0.9759, Loss: 0.0128\n",
      "Epoch   9 Batch  800/2154 - Train Accuracy: 0.9827, Validation Accuracy: 0.9936, Loss: 0.0142\n",
      "Epoch   9 Batch  900/2154 - Train Accuracy: 0.9885, Validation Accuracy: 0.9943, Loss: 0.0179\n",
      "Epoch   9 Batch 1000/2154 - Train Accuracy: 0.9621, Validation Accuracy: 0.9844, Loss: 0.0154\n",
      "Epoch   9 Batch 1100/2154 - Train Accuracy: 1.0000, Validation Accuracy: 0.9950, Loss: 0.0067\n",
      "Epoch   9 Batch 1200/2154 - Train Accuracy: 0.9613, Validation Accuracy: 0.9844, Loss: 0.0333\n",
      "Epoch   9 Batch 1300/2154 - Train Accuracy: 1.0000, Validation Accuracy: 0.9844, Loss: 0.0134\n",
      "Epoch   9 Batch 1400/2154 - Train Accuracy: 1.0000, Validation Accuracy: 0.9751, Loss: 0.0110\n",
      "Epoch   9 Batch 1500/2154 - Train Accuracy: 0.9967, Validation Accuracy: 0.9943, Loss: 0.0159\n",
      "Epoch   9 Batch 1600/2154 - Train Accuracy: 0.9789, Validation Accuracy: 0.9851, Loss: 0.0187\n",
      "Epoch   9 Batch 1700/2154 - Train Accuracy: 0.9602, Validation Accuracy: 0.9901, Loss: 0.0217\n",
      "Epoch   9 Batch 1800/2154 - Train Accuracy: 0.9617, Validation Accuracy: 0.9943, Loss: 0.0238\n",
      "Epoch   9 Batch 1900/2154 - Train Accuracy: 0.9641, Validation Accuracy: 0.9879, Loss: 0.0220\n",
      "Epoch   9 Batch 2000/2154 - Train Accuracy: 0.9766, Validation Accuracy: 0.9851, Loss: 0.0199\n",
      "Epoch   9 Batch 2100/2154 - Train Accuracy: 1.0000, Validation Accuracy: 0.9936, Loss: 0.0075\n",
      "Model Trained and Saved\n"
     ]
    }
   ],
   "source": [
    "\"\"\"\n",
    "DON'T MODIFY ANYTHING IN THIS CELL\n",
    "\"\"\"\n",
    "def get_accuracy(target, logits):\n",
    "    \"\"\"\n",
    "    Calculate accuracy\n",
    "    \"\"\"\n",
    "    max_seq = max(target.shape[1], logits.shape[1])\n",
    "    if max_seq - target.shape[1]:\n",
    "        target = np.pad(\n",
    "            target,\n",
    "            [(0,0),(0,max_seq - target.shape[1])],\n",
    "            'constant')\n",
    "    if max_seq - logits.shape[1]:\n",
    "        logits = np.pad(\n",
    "            logits,\n",
    "            [(0,0),(0,max_seq - logits.shape[1])],\n",
    "            'constant')\n",
    "\n",
    "    return np.mean(np.equal(target, logits))\n",
    "\n",
    "# Split data to training and validation sets\n",
    "train_source = source_int_text[batch_size:]\n",
    "train_target = target_int_text[batch_size:]\n",
    "valid_source = source_int_text[:batch_size]\n",
    "valid_target = target_int_text[:batch_size]\n",
    "(valid_sources_batch, valid_targets_batch, valid_sources_lengths, valid_targets_lengths ) = next(get_batches(valid_source,\n",
    "                                                                                                             valid_target,\n",
    "                                                                                                             batch_size,\n",
    "                                                                                                             source_vocab_to_int['<PAD>'],\n",
    "                                                                                                             target_vocab_to_int['<PAD>']))                                                                                                  \n",
    "with tf.Session(graph=train_graph) as sess:\n",
    "    sess.run(tf.global_variables_initializer())\n",
    "\n",
    "    for epoch_i in range(epochs):\n",
    "        for batch_i, (source_batch, target_batch, sources_lengths, targets_lengths) in enumerate(\n",
    "                get_batches(train_source, train_target, batch_size,\n",
    "                            source_vocab_to_int['<PAD>'],\n",
    "                            target_vocab_to_int['<PAD>'])):\n",
    "\n",
    "            _, loss = sess.run(\n",
    "                [train_op, cost],\n",
    "                {input_data: source_batch,\n",
    "                 targets: target_batch,\n",
    "                 lr: learning_rate,\n",
    "                 target_sequence_length: targets_lengths,\n",
    "                 source_sequence_length: sources_lengths,\n",
    "                 keep_prob: keep_probability})\n",
    "\n",
    "\n",
    "            if batch_i % display_step == 0 and batch_i > 0:\n",
    "\n",
    "\n",
    "                batch_train_logits = sess.run(\n",
    "                    inference_logits,\n",
    "                    {input_data: source_batch,\n",
    "                     source_sequence_length: sources_lengths,\n",
    "                     target_sequence_length: targets_lengths,\n",
    "                     keep_prob: 1.0})\n",
    "\n",
    "\n",
    "                batch_valid_logits = sess.run(\n",
    "                    inference_logits,\n",
    "                    {input_data: valid_sources_batch,\n",
    "                     source_sequence_length: valid_sources_lengths,\n",
    "                     target_sequence_length: valid_targets_lengths,\n",
    "                     keep_prob: 1.0})\n",
    "\n",
    "                train_acc = get_accuracy(target_batch, batch_train_logits)\n",
    "\n",
    "                valid_acc = get_accuracy(valid_targets_batch, batch_valid_logits)\n",
    "\n",
    "                print('Epoch {:>3} Batch {:>4}/{} - Train Accuracy: {:>6.4f}, Validation Accuracy: {:>6.4f}, Loss: {:>6.4f}'\n",
    "                      .format(epoch_i, batch_i, len(source_int_text) // batch_size, train_acc, valid_acc, loss))\n",
    "\n",
    "    # Save Mod el\n",
    "    saver = tf.train.Saver()\n",
    "    saver.save(sess, save_path)\n",
    "    print('Model Trained and Saved')"
   ]
  },
  {
   "cell_type": "markdown",
   "metadata": {},
   "source": [
    "### Save Parameters\n",
    "Save the `batch_size` and `save_path` parameters for inference."
   ]
  },
  {
   "cell_type": "code",
   "execution_count": 19,
   "metadata": {
    "collapsed": true
   },
   "outputs": [],
   "source": [
    "\"\"\"\n",
    "DON'T MODIFY ANYTHING IN THIS CELL\n",
    "\"\"\"\n",
    "# Save parameters for checkpoint\n",
    "helper.save_params(save_path)"
   ]
  },
  {
   "cell_type": "markdown",
   "metadata": {},
   "source": [
    "# Checkpoint"
   ]
  },
  {
   "cell_type": "code",
   "execution_count": 20,
   "metadata": {},
   "outputs": [
    {
     "name": "stdout",
     "output_type": "stream",
     "text": [
      "checkpoints/dev\n"
     ]
    }
   ],
   "source": [
    "\"\"\"\n",
    "DON'T MODIFY ANYTHING IN THIS CELL\n",
    "\"\"\"\n",
    "import tensorflow as tf\n",
    "import numpy as np\n",
    "import helper\n",
    "import problem_unittests as tests\n",
    "\n",
    "_, (source_vocab_to_int, target_vocab_to_int), (source_int_to_vocab, target_int_to_vocab) = helper.load_preprocess()\n",
    "load_path = helper.load_params()\n",
    "\n",
    "print(load_path)"
   ]
  },
  {
   "cell_type": "markdown",
   "metadata": {},
   "source": [
    "## Sentence to Sequence\n",
    "To feed a sentence into the model for translation, you first need to preprocess it.  Implement the function `sentence_to_seq()` to preprocess new sentences.\n",
    "\n",
    "- Convert the sentence to lowercase\n",
    "- Convert words into ids using `vocab_to_int`\n",
    " - Convert words not in the vocabulary, to the `<UNK>` word id."
   ]
  },
  {
   "cell_type": "code",
   "execution_count": 21,
   "metadata": {},
   "outputs": [
    {
     "name": "stdout",
     "output_type": "stream",
     "text": [
      "Tests Passed\n"
     ]
    }
   ],
   "source": [
    "def sentence_to_seq(sentence, vocab_to_int):\n",
    "    \"\"\"\n",
    "    Convert a sentence to a sequence of ids\n",
    "    :param sentence: String\n",
    "    :param vocab_to_int: Dictionary to go from the words to an id\n",
    "    :return: List of word ids\n",
    "    \"\"\"\n",
    "    \n",
    "    words = sentence.lower().split()\n",
    "        \n",
    "    word_ids = [vocab_to_int.get(word, vocab_to_int['<UNK>']) for word in words]\n",
    "    \n",
    "    return word_ids\n",
    "\n",
    "\n",
    "\"\"\"\n",
    "DON'T MODIFY ANYTHING IN THIS CELL THAT IS BELOW THIS LINE\n",
    "\"\"\"\n",
    "tests.test_sentence_to_seq(sentence_to_seq)"
   ]
  },
  {
   "cell_type": "markdown",
   "metadata": {},
   "source": [
    "## Translate\n",
    "This will translate `translate_sentence` from English to French."
   ]
  },
  {
   "cell_type": "code",
   "execution_count": 24,
   "metadata": {},
   "outputs": [
    {
     "name": "stdout",
     "output_type": "stream",
     "text": [
      "INFO:tensorflow:Restoring parameters from checkpoints/dev\n",
      "Input\n",
      "  Word Ids:      [77, 163, 108, 199, 96, 123, 77, 60, 108, 126, 113]\n",
      "  English Words: ['she', 'liked', 'the', 'blue', 'truck', 'but', 'she', 'loved', 'the', 'yellow', 'cat']\n",
      "\n",
      "Prediction\n",
      "  Word Ids:      [188, 70, 159, 177, 22, 270, 159, 162, 40, 209, 126, 246, 22, 66, 1]\n",
      "  French Words: elle déteste le plus aimé est le vieux , mais son moins aimé . <EOS>\n"
     ]
    }
   ],
   "source": [
    "translate_sentence = 'he saw an old yellow truck .' #the old yellow banana is wonderful .'\n",
    "translate_sentence = 'she liked the blue truck but she loved the yellow cat'\n",
    "\n",
    "\"\"\"\n",
    "DON'T MODIFY ANYTHING IN THIS CELL\n",
    "\"\"\"\n",
    "translate_sentence = sentence_to_seq(translate_sentence, source_vocab_to_int)\n",
    "\n",
    "loaded_graph = tf.Graph()\n",
    "with tf.Session(graph=loaded_graph) as sess:\n",
    "    # Load saved model\n",
    "    loader = tf.train.import_meta_graph(load_path + '.meta')\n",
    "    loader.restore(sess, load_path)\n",
    "\n",
    "    input_data = loaded_graph.get_tensor_by_name('input:0')\n",
    "    logits = loaded_graph.get_tensor_by_name('predictions:0')\n",
    "    target_sequence_length = loaded_graph.get_tensor_by_name('target_sequence_length:0')\n",
    "    source_sequence_length = loaded_graph.get_tensor_by_name('source_sequence_length:0')\n",
    "    keep_prob = loaded_graph.get_tensor_by_name('keep_prob:0')\n",
    "\n",
    "    translate_logits = sess.run(logits, {input_data: [translate_sentence]*batch_size,\n",
    "                                         target_sequence_length: [len(translate_sentence)*2]*batch_size,\n",
    "                                         source_sequence_length: [len(translate_sentence)]*batch_size,\n",
    "                                         keep_prob: 1.0})[0]\n",
    "\n",
    "print('Input')\n",
    "print('  Word Ids:      {}'.format([i for i in translate_sentence]))\n",
    "print('  English Words: {}'.format([source_int_to_vocab[i] for i in translate_sentence]))\n",
    "\n",
    "print('\\nPrediction')\n",
    "print('  Word Ids:      {}'.format([i for i in translate_logits]))\n",
    "print('  French Words: {}'.format(\" \".join([target_int_to_vocab[i] for i in translate_logits])))\n"
   ]
  },
  {
   "cell_type": "markdown",
   "metadata": {},
   "source": [
    "## Imperfect Translation\n",
    "You might notice that some sentences translate better than others.  Since the dataset you're using only has a vocabulary of 227 English words of the thousands that you use, you're only going to see good results using these words.  For this project, you don't need a perfect translation. However, if you want to create a better translation model, you'll need better data.\n",
    "\n",
    "You can train on the [WMT10 French-English corpus](http://www.statmt.org/wmt10/training-giga-fren.tar).  This dataset has more vocabulary and richer in topics discussed.  However, this will take you days to train, so make sure you've a GPU and the neural network is performing well on dataset we provided.  Just make sure you play with the WMT10 corpus after you've submitted this project.\n",
    "## Submitting This Project\n",
    "When submitting this project, make sure to run all the cells before saving the notebook. Save the notebook file as \"dlnd_language_translation.ipynb\" and save it as a HTML file under \"File\" -> \"Download as\". Include the \"helper.py\" and \"problem_unittests.py\" files in your submission."
   ]
  }
 ],
 "metadata": {
  "anaconda-cloud": {},
  "kernelspec": {
   "display_name": "Python 3",
   "language": "python",
   "name": "python3"
  },
  "language_info": {
   "codemirror_mode": {
    "name": "ipython",
    "version": 3
   },
   "file_extension": ".py",
   "mimetype": "text/x-python",
   "name": "python",
   "nbconvert_exporter": "python",
   "pygments_lexer": "ipython3",
   "version": "3.5.2"
  }
 },
 "nbformat": 4,
 "nbformat_minor": 1
}
